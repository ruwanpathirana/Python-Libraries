{
 "cells": [
  {
   "cell_type": "code",
   "execution_count": 1,
   "id": "851da7ff",
   "metadata": {},
   "outputs": [],
   "source": [
    "import pandas as pd \n",
    "import numpy as np "
   ]
  },
  {
   "cell_type": "code",
   "execution_count": 2,
   "id": "fae7ede7",
   "metadata": {},
   "outputs": [],
   "source": [
    "#head()"
   ]
  },
  {
   "cell_type": "code",
   "execution_count": 3,
   "id": "d2fc700a",
   "metadata": {},
   "outputs": [
    {
     "name": "stdout",
     "output_type": "stream",
     "text": [
      "0    1\n",
      "1    2\n",
      "2    3\n",
      "3    4\n",
      "4    5\n",
      "5    6\n",
      "6    7\n",
      "dtype: int32\n"
     ]
    }
   ],
   "source": [
    "df=pd.Series(np.arange(1,51))\n",
    "print(df.head(7))"
   ]
  },
  {
   "cell_type": "code",
   "execution_count": 4,
   "id": "4bbe08b9",
   "metadata": {},
   "outputs": [],
   "source": [
    "#tail()"
   ]
  },
  {
   "cell_type": "code",
   "execution_count": 5,
   "id": "e19e6859",
   "metadata": {},
   "outputs": [
    {
     "name": "stdout",
     "output_type": "stream",
     "text": [
      "45    46\n",
      "46    47\n",
      "47    48\n",
      "48    49\n",
      "49    50\n",
      "dtype: int32\n"
     ]
    }
   ],
   "source": [
    "df=pd.Series(np.arange(1,51))\n",
    "print(df.tail(5))"
   ]
  },
  {
   "cell_type": "code",
   "execution_count": 6,
   "id": "f50ca997",
   "metadata": {},
   "outputs": [],
   "source": [
    "#values"
   ]
  },
  {
   "cell_type": "code",
   "execution_count": 7,
   "id": "b70cda0d",
   "metadata": {},
   "outputs": [
    {
     "name": "stdout",
     "output_type": "stream",
     "text": [
      "[ 1  2  3  4  5  6  7  8  9 10 11 12 13 14 15 16 17 18 19 20 21 22 23 24\n",
      " 25 26 27 28 29 30 31 32 33 34 35 36 37 38 39 40 41 42 43 44 45 46 47 48\n",
      " 49 50]\n"
     ]
    }
   ],
   "source": [
    "df=pd.Series(np.arange(1,51))\n",
    "print(df.values)"
   ]
  },
  {
   "cell_type": "code",
   "execution_count": 9,
   "id": "88ccda90",
   "metadata": {},
   "outputs": [],
   "source": [
    "#groupby()"
   ]
  },
  {
   "cell_type": "code",
   "execution_count": 10,
   "id": "2ea33b71",
   "metadata": {},
   "outputs": [],
   "source": [
    "import pandas as pd "
   ]
  },
  {
   "cell_type": "code",
   "execution_count": 12,
   "id": "e1ba0dc2",
   "metadata": {},
   "outputs": [
    {
     "name": "stdout",
     "output_type": "stream",
     "text": [
      "{('AUS', 1): [3, 6, 7, 8, 10], ('IND', 2): [2, 9], ('PAK', 6): [4], ('SL', 4): [5], ('WI', 7): [0, 1]}\n"
     ]
    }
   ],
   "source": [
    "world_cup={'team':['WI','WI','IND','AUS','PAK','SL','AUS','AUS','AUS','IND','AUS'],'rank':[7,7,2,1,6,4,1,1,1,2,1],'year':[1975,1979,1983,1987,1992,1996,1999,2003,2007,2011,2015]}\n",
    "df=pd.DataFrame(world_cup)\n",
    "print(df.groupby(['team','rank']).groups)"
   ]
  },
  {
   "cell_type": "code",
   "execution_count": 13,
   "id": "7ffe5340",
   "metadata": {},
   "outputs": [],
   "source": [
    "#Concatenation()  #no relationship between 2 dataset"
   ]
  },
  {
   "cell_type": "code",
   "execution_count": 14,
   "id": "8bf5c6c6",
   "metadata": {},
   "outputs": [
    {
     "name": "stdout",
     "output_type": "stream",
     "text": [
      "   team  rank  year team  rank\n",
      "0    WI     7  1975   SA   1.0\n",
      "1    WI     7  1979   NZ   5.0\n",
      "2   IND     2  1983  ZIM   9.0\n",
      "3   AUS     1  1987  NaN   NaN\n",
      "4   PAK     6  1992  NaN   NaN\n",
      "5    SL     4  1996  NaN   NaN\n",
      "6   AUS     1  1999  NaN   NaN\n",
      "7   AUS     1  2003  NaN   NaN\n",
      "8   AUS     1  2007  NaN   NaN\n",
      "9   IND     2  2011  NaN   NaN\n",
      "10  AUS     1  2015  NaN   NaN\n"
     ]
    }
   ],
   "source": [
    "import pandas as pd \n",
    "\n",
    "wc={'team':['IND','AUS','WI','PAK','SL'],\n",
    "   'rank':[2,3,7,8,4],\n",
    "   'year':[2011,2015,1979,1992,1996]}\n",
    "chockers={'team':['SA','NZ','ZIM'],\n",
    "         'rank':[1,5,9]}\n",
    "df1=pd.DataFrame(world_cup)\n",
    "df2=pd.DataFrame(chockers)\n",
    "print(pd.concat([df1,df2],axis=1))"
   ]
  },
  {
   "cell_type": "code",
   "execution_count": 15,
   "id": "dca25880",
   "metadata": {},
   "outputs": [],
   "source": [
    "#merging   need common column #have relationship between 2 dataset"
   ]
  },
  {
   "cell_type": "code",
   "execution_count": 26,
   "id": "63372158",
   "metadata": {},
   "outputs": [
    {
     "name": "stdout",
     "output_type": "stream",
     "text": [
      "  team  rank  year\n",
      "0  IND     2  2011\n",
      "1  AUS     3  2015\n",
      "2   WI     7  1979\n",
      "3  PAK     8  1992\n",
      "4   SL     4  1996\n",
      "  team  points  play\n",
      "0  IND     100    13\n",
      "1  AUS     200    15\n",
      "2   WI     300    19\n",
      "3  PAK     400    18\n",
      "4   SL     500    14\n",
      "  team  rank  year  points  play\n",
      "0  IND     2  2011     100    13\n",
      "1  AUS     3  2015     200    15\n",
      "2   WI     7  1979     300    19\n",
      "3  PAK     8  1992     400    18\n",
      "4   SL     4  1996     500    14\n"
     ]
    }
   ],
   "source": [
    "import pandas as pd \n",
    "\n",
    "wc={'team':['IND','AUS','WI','PAK','SL'],\n",
    "   'rank':[2,3,7,8,4],\n",
    "   'year':[2011,2015,1979,1992,1996]}\n",
    "stats={'team':['IND','AUS','WI','PAK','SL'],\n",
    "         'points':[100,200,300,400,500],\n",
    "         'play':[13,15,19,18,14]}\n",
    "df1=pd.DataFrame(wc)\n",
    "df2=pd.DataFrame(stats)\n",
    "print(df1)\n",
    "print(df2)\n",
    "print(pd.merge(df1,df2,on='team'))"
   ]
  }
 ],
 "metadata": {
  "kernelspec": {
   "display_name": "Python 3 (ipykernel)",
   "language": "python",
   "name": "python3"
  },
  "language_info": {
   "codemirror_mode": {
    "name": "ipython",
    "version": 3
   },
   "file_extension": ".py",
   "mimetype": "text/x-python",
   "name": "python",
   "nbconvert_exporter": "python",
   "pygments_lexer": "ipython3",
   "version": "3.9.12"
  },
  "varInspector": {
   "cols": {
    "lenName": 16,
    "lenType": 16,
    "lenVar": 40
   },
   "kernels_config": {
    "python": {
     "delete_cmd_postfix": "",
     "delete_cmd_prefix": "del ",
     "library": "var_list.py",
     "varRefreshCmd": "print(var_dic_list())"
    },
    "r": {
     "delete_cmd_postfix": ") ",
     "delete_cmd_prefix": "rm(",
     "library": "var_list.r",
     "varRefreshCmd": "cat(var_dic_list()) "
    }
   },
   "types_to_exclude": [
    "module",
    "function",
    "builtin_function_or_method",
    "instance",
    "_Feature"
   ],
   "window_display": false
  }
 },
 "nbformat": 4,
 "nbformat_minor": 5
}
